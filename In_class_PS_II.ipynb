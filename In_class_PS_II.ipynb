{
  "nbformat": 4,
  "nbformat_minor": 0,
  "metadata": {
    "colab": {
      "name": "In-class PS-II.ipynb",
      "provenance": [],
      "collapsed_sections": [],
      "authorship_tag": "ABX9TyNTf1iTHdD4DMe9NI1Jbo0X",
      "include_colab_link": true
    },
    "kernelspec": {
      "name": "python3",
      "display_name": "Python 3"
    },
    "language_info": {
      "name": "python"
    }
  },
  "cells": [
    {
      "cell_type": "markdown",
      "metadata": {
        "id": "view-in-github",
        "colab_type": "text"
      },
      "source": [
        "<a href=\"https://colab.research.google.com/github/plnbabup/Edu/blob/master/In_class_PS_II.ipynb\" target=\"_parent\"><img src=\"https://colab.research.google.com/assets/colab-badge.svg\" alt=\"Open In Colab\"/></a>"
      ]
    },
    {
      "cell_type": "markdown",
      "metadata": {
        "id": "oEUjJ5H9OPEB"
      },
      "source": [
        "Program to find the entered number even or odd"
      ]
    },
    {
      "cell_type": "code",
      "metadata": {
        "colab": {
          "base_uri": "https://localhost:8080/"
        },
        "id": "j_g-IxpnOc6D",
        "outputId": "c3c508ed-00cc-4c00-a1a2-96d18b714d13"
      },
      "source": [
        "n=int(input(\"Enter a number:\"))\n",
        "if n%2==0:\n",
        "  print(n,\"is an even number.\")\n",
        "else:\n",
        "  print(n,\"is an odd number.\")"
      ],
      "execution_count": null,
      "outputs": [
        {
          "output_type": "stream",
          "name": "stdout",
          "text": [
            "Enter a number:15\n",
            "15 is an odd number.\n"
          ]
        }
      ]
    },
    {
      "cell_type": "markdown",
      "metadata": {
        "id": "Ar_3P05kPwAB"
      },
      "source": [
        "Program to find greatest of two numbers"
      ]
    },
    {
      "cell_type": "code",
      "metadata": {
        "colab": {
          "base_uri": "https://localhost:8080/"
        },
        "id": "r7us8pxfQCSb",
        "outputId": "b9b46ae1-3427-4532-fe99-f04a25ca7318"
      },
      "source": [
        "a,b = [int(x) for x in input(\"Enter two numbers:\").split()]\n",
        "if a>b:\n",
        "  print(a,\"is grater than \",b)\n",
        "else:\n",
        "  print(b,\"is greater than \",a)"
      ],
      "execution_count": null,
      "outputs": [
        {
          "output_type": "stream",
          "name": "stdout",
          "text": [
            "Enter two numbers:10 20\n",
            "20 is greater than  10\n"
          ]
        }
      ]
    },
    {
      "cell_type": "markdown",
      "metadata": {
        "id": "YY1vH5qXROlN"
      },
      "source": [
        "Shopkeeper program"
      ]
    },
    {
      "cell_type": "code",
      "metadata": {
        "colab": {
          "base_uri": "https://localhost:8080/"
        },
        "id": "YWu2KymcRW9x",
        "outputId": "74da470b-eaf6-47e6-b372-c177290e9373"
      },
      "source": [
        "n = int(input(\"Number of quantities:\"))\n",
        "s = n*100\n",
        "if s>1000:\n",
        "  print(\"Billed amount is : \",s)\n",
        "  c = (s*10)/100\n",
        "  s-=c\n",
        "  print(\"Net payable @10% discount is : \",s)\n",
        "else:\n",
        "  print(\"Net payable is : \",s)"
      ],
      "execution_count": null,
      "outputs": [
        {
          "output_type": "stream",
          "name": "stdout",
          "text": [
            "Number of quantities:50\n",
            "Billed amount is :  5000\n",
            "Net payable @10% discount is :  4500.0\n"
          ]
        }
      ]
    },
    {
      "cell_type": "markdown",
      "metadata": {
        "id": "D6mRvphVSjHD"
      },
      "source": [
        "School grading"
      ]
    },
    {
      "cell_type": "code",
      "metadata": {
        "colab": {
          "base_uri": "https://localhost:8080/"
        },
        "id": "GebC9Dr1Su9r",
        "outputId": "e90788a8-abd5-4604-cdd1-2475d3caeb37"
      },
      "source": [
        "n = int(input(\"Enter the marks obtained :\"))\n",
        "if n < 25:\n",
        "  r = \"F\"\n",
        "elif n < 45:\n",
        "  r = \"E\"\n",
        "elif n < 50:\n",
        "  r = \"D\"\n",
        "elif n < 60:\n",
        "  r = \"C\"\n",
        "elif n < 80:\n",
        "  r = \"B\"\n",
        "else:\n",
        "  r = \"A\"\n",
        "print(\"Grade obtained for \",n,\"marks is : \",r)"
      ],
      "execution_count": null,
      "outputs": [
        {
          "output_type": "stream",
          "name": "stdout",
          "text": [
            "Enter the marks obtained :25\n",
            "Grade obtained for  25 marks is :  E\n"
          ]
        }
      ]
    }
  ]
}