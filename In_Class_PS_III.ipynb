{
  "nbformat": 4,
  "nbformat_minor": 0,
  "metadata": {
    "colab": {
      "name": "In-Class PS-III.ipynb",
      "provenance": [],
      "authorship_tag": "ABX9TyMPEjfgBCxn6nJyOV8T62PD",
      "include_colab_link": true
    },
    "kernelspec": {
      "name": "python3",
      "display_name": "Python 3"
    },
    "language_info": {
      "name": "python"
    }
  },
  "cells": [
    {
      "cell_type": "markdown",
      "metadata": {
        "id": "view-in-github",
        "colab_type": "text"
      },
      "source": [
        "<a href=\"https://colab.research.google.com/github/plnbabup/Edu/blob/master/In_Class_PS_III.ipynb\" target=\"_parent\"><img src=\"https://colab.research.google.com/assets/colab-badge.svg\" alt=\"Open In Colab\"/></a>"
      ]
    },
    {
      "cell_type": "markdown",
      "metadata": {
        "id": "1CPpu_3xWiwU"
      },
      "source": [
        "Pallindrome"
      ]
    },
    {
      "cell_type": "code",
      "metadata": {
        "colab": {
          "base_uri": "https://localhost:8080/"
        },
        "id": "Vi9e0jpJZDJb",
        "outputId": "5e63a420-6bc6-4d84-bcc1-e56679b36888"
      },
      "source": [
        "n = int(input(\"Enter a number :\"))\n",
        "c = n\n",
        "s = 0\n",
        "while n>0:\n",
        "  r = int(n%10)\n",
        "  s = (s*10)+r\n",
        "  n = int(n/10)\n",
        "if s==c:\n",
        "  print(c,\"is a pallindrome number\")\n",
        "else:\n",
        "  print(c,\"is not a pallindrome number\")"
      ],
      "execution_count": 13,
      "outputs": [
        {
          "output_type": "stream",
          "name": "stdout",
          "text": [
            "Enter a number :96\n",
            "96 is not a pallindrome number\n"
          ]
        }
      ]
    },
    {
      "cell_type": "markdown",
      "metadata": {
        "id": "htbuXKSYcDL5"
      },
      "source": [
        "Table of given number"
      ]
    },
    {
      "cell_type": "code",
      "metadata": {
        "colab": {
          "base_uri": "https://localhost:8080/"
        },
        "id": "HmWu8sMRcJml",
        "outputId": "f375d990-3626-4638-b405-e1e7bed64722"
      },
      "source": [
        "n = int(input(\"Enter a number:\"))\n",
        "for i in range(1,11):\n",
        "  print(n,\"X\",i,\"=\",n*i)"
      ],
      "execution_count": 16,
      "outputs": [
        {
          "output_type": "stream",
          "name": "stdout",
          "text": [
            "Enter a number:02\n",
            "2 X 1 = 2\n",
            "2 X 2 = 4\n",
            "2 X 3 = 6\n",
            "2 X 4 = 8\n",
            "2 X 5 = 10\n",
            "2 X 6 = 12\n",
            "2 X 7 = 14\n",
            "2 X 8 = 16\n",
            "2 X 9 = 18\n",
            "2 X 10 = 20\n"
          ]
        }
      ]
    },
    {
      "cell_type": "markdown",
      "metadata": {
        "id": "GY9uOzX8cw1a"
      },
      "source": [
        "List program"
      ]
    },
    {
      "cell_type": "code",
      "metadata": {
        "colab": {
          "base_uri": "https://localhost:8080/"
        },
        "id": "bnm-FDXqgXJh",
        "outputId": "23cbf36c-62ba-4f7d-8e49-990473b21bcf"
      },
      "source": [
        "lst1 = []\n",
        "n1 = int(input(\"Enter size of list 1:\"))\n",
        "print(\"Enter the list 1 elements\")\n",
        "for i in range(0,n1):\n",
        "  lst1.append(int(input()))\n",
        "lst2 = []\n",
        "n2 = int(input(\"Enter size of list 2:\"))\n",
        "print(\"Enter the list 2 elements\")\n",
        "for i in range(0,n2):\n",
        "  lst2.append(int(input()))\n",
        "lst = []\n",
        "for i in lst1:\n",
        "  if i%2!=0:\n",
        "    lst.append(i)\n",
        "for i in lst2:\n",
        "  if i%2==0:\n",
        "    lst.append(i)\n",
        "print(lst)\n"
      ],
      "execution_count": 27,
      "outputs": [
        {
          "output_type": "stream",
          "name": "stdout",
          "text": [
            "Enter size of list 1:5\n",
            "Enter the list 1 elements\n",
            "11\n",
            "12\n",
            "13\n",
            "14\n",
            "15\n",
            "Enter size of list 2:5\n",
            "Enter the list 2 elements\n",
            "16\n",
            "17\n",
            "18\n",
            "19\n",
            "20\n",
            "[11, 13, 15, 16, 18, 20]\n"
          ]
        }
      ]
    },
    {
      "cell_type": "markdown",
      "metadata": {
        "id": "sRe-OJ35hb52"
      },
      "source": [
        "Matrix multiplication"
      ]
    },
    {
      "cell_type": "code",
      "metadata": {
        "colab": {
          "base_uri": "https://localhost:8080/"
        },
        "id": "wiu0AC_-hfjJ",
        "outputId": "c93e60ef-c604-4a4a-9844-1883b06cd8bc"
      },
      "source": [
        "A = []\n",
        "m,n = [int(x) for x in input(\"Enter order of matrix A:\").split()]\n",
        "#print(m,n)\n",
        "for i in range(m):\n",
        "    a=[]\n",
        "    for j in range(n):\n",
        "        a.append(int(input()))\n",
        "    A.append(a)\n",
        "B = []\n",
        "p,q = [int(x) for x in input(\"Enter order of matrix B:\").split()]\n",
        "#print(m,n)\n",
        "for i in range(p):\n",
        "    a=[]\n",
        "    for j in range(q):\n",
        "        a.append(int(input()))\n",
        "    B.append(a)\n",
        "if n!=p:\n",
        "    print(\"Matrix multiplication not possible as no of columns in A & no of rows in B does not match\" )\n",
        "else:\n",
        "    C=[]\n",
        "    for i in range(m):\n",
        "        c=[]\n",
        "        for j in range(q):\n",
        "            c.append(0)\n",
        "        C.append(c)\n",
        "    for i in range(len(A)):\n",
        "        for j in range(len(B[0])):\n",
        "            for k in range(len(B)):\n",
        "                C[i][j]+= A[i][k] * B[k][j]\n",
        "    print(C)\n"
      ],
      "execution_count": 32,
      "outputs": [
        {
          "output_type": "stream",
          "name": "stdout",
          "text": [
            "Enter order of matrix A:2 3\n",
            "1\n",
            "2\n",
            "3\n",
            "4\n",
            "5\n",
            "6\n",
            "Enter order of matrix B:3 3\n",
            "1\n",
            "2\n",
            "3\n",
            "4\n",
            "5\n",
            "6\n",
            "7\n",
            "8\n",
            "9\n",
            "[[30, 36, 42], [66, 81, 96]]\n"
          ]
        }
      ]
    }
  ]
}